{
 "cells": [
  {
   "cell_type": "code",
   "execution_count": 3,
   "id": "4993b5cd-33a3-4e46-b612-e4595e1bdcd6",
   "metadata": {},
   "outputs": [],
   "source": [
    "## import libraries \n",
    "import pandas as pd \n",
    "import warnings\n",
    "import numpy as np\n",
    "import seaborn as sns\n",
    "import matplotlib.pyplot as plt\n",
    "from sklearn.model_selection import train_test_split, LearningCurveDisplay, ValidationCurveDisplay\n",
    "from sklearn.preprocessing import StandardScaler\n",
    "import lightgbm as lgb\n",
    "from sklearn.model_selection import StratifiedKFold, cross_validate\n",
    "from sklearn.metrics import accuracy_score, precision_score, recall_score, classification_report, confusion_matrix, RocCurveDisplay\n",
    "warnings.filterwarnings(\"ignore\")"
   ]
  },
  {
   "cell_type": "code",
   "execution_count": 4,
   "id": "d26da504-739c-411e-b1fd-4c1f42684272",
   "metadata": {
    "scrolled": true
   },
   "outputs": [
    {
     "ename": "FileNotFoundError",
     "evalue": "[Errno 2] No such file or directory: 'ext_3k_SS01.csv'",
     "output_type": "error",
     "traceback": [
      "\u001b[1;31m---------------------------------------------------------------------------\u001b[0m",
      "\u001b[1;31mFileNotFoundError\u001b[0m                         Traceback (most recent call last)",
      "Cell \u001b[1;32mIn[4], line 2\u001b[0m\n\u001b[0;32m      1\u001b[0m \u001b[38;5;66;03m## importing data as dataframe \u001b[39;00m\n\u001b[1;32m----> 2\u001b[0m dataset \u001b[38;5;241m=\u001b[39m \u001b[43mpd\u001b[49m\u001b[38;5;241;43m.\u001b[39;49m\u001b[43mread_csv\u001b[49m\u001b[43m(\u001b[49m\u001b[38;5;124;43m'\u001b[39;49m\u001b[38;5;124;43mext_3k_SS01.csv\u001b[39;49m\u001b[38;5;124;43m'\u001b[39;49m\u001b[43m,\u001b[49m\u001b[43m \u001b[49m\u001b[43mdelimiter\u001b[49m\u001b[38;5;241;43m=\u001b[39;49m\u001b[38;5;124;43m'\u001b[39;49m\u001b[38;5;124;43m,\u001b[39;49m\u001b[38;5;124;43m'\u001b[39;49m\u001b[43m)\u001b[49m\n\u001b[0;32m      3\u001b[0m dataset\u001b[38;5;241m.\u001b[39mhead()\n",
      "File \u001b[1;32mC:\\ProgramData\\anaconda3\\envs\\gsiti\\Lib\\site-packages\\pandas\\io\\parsers\\readers.py:1026\u001b[0m, in \u001b[0;36mread_csv\u001b[1;34m(filepath_or_buffer, sep, delimiter, header, names, index_col, usecols, dtype, engine, converters, true_values, false_values, skipinitialspace, skiprows, skipfooter, nrows, na_values, keep_default_na, na_filter, verbose, skip_blank_lines, parse_dates, infer_datetime_format, keep_date_col, date_parser, date_format, dayfirst, cache_dates, iterator, chunksize, compression, thousands, decimal, lineterminator, quotechar, quoting, doublequote, escapechar, comment, encoding, encoding_errors, dialect, on_bad_lines, delim_whitespace, low_memory, memory_map, float_precision, storage_options, dtype_backend)\u001b[0m\n\u001b[0;32m   1013\u001b[0m kwds_defaults \u001b[38;5;241m=\u001b[39m _refine_defaults_read(\n\u001b[0;32m   1014\u001b[0m     dialect,\n\u001b[0;32m   1015\u001b[0m     delimiter,\n\u001b[1;32m   (...)\u001b[0m\n\u001b[0;32m   1022\u001b[0m     dtype_backend\u001b[38;5;241m=\u001b[39mdtype_backend,\n\u001b[0;32m   1023\u001b[0m )\n\u001b[0;32m   1024\u001b[0m kwds\u001b[38;5;241m.\u001b[39mupdate(kwds_defaults)\n\u001b[1;32m-> 1026\u001b[0m \u001b[38;5;28;01mreturn\u001b[39;00m \u001b[43m_read\u001b[49m\u001b[43m(\u001b[49m\u001b[43mfilepath_or_buffer\u001b[49m\u001b[43m,\u001b[49m\u001b[43m \u001b[49m\u001b[43mkwds\u001b[49m\u001b[43m)\u001b[49m\n",
      "File \u001b[1;32mC:\\ProgramData\\anaconda3\\envs\\gsiti\\Lib\\site-packages\\pandas\\io\\parsers\\readers.py:620\u001b[0m, in \u001b[0;36m_read\u001b[1;34m(filepath_or_buffer, kwds)\u001b[0m\n\u001b[0;32m    617\u001b[0m _validate_names(kwds\u001b[38;5;241m.\u001b[39mget(\u001b[38;5;124m\"\u001b[39m\u001b[38;5;124mnames\u001b[39m\u001b[38;5;124m\"\u001b[39m, \u001b[38;5;28;01mNone\u001b[39;00m))\n\u001b[0;32m    619\u001b[0m \u001b[38;5;66;03m# Create the parser.\u001b[39;00m\n\u001b[1;32m--> 620\u001b[0m parser \u001b[38;5;241m=\u001b[39m \u001b[43mTextFileReader\u001b[49m\u001b[43m(\u001b[49m\u001b[43mfilepath_or_buffer\u001b[49m\u001b[43m,\u001b[49m\u001b[43m \u001b[49m\u001b[38;5;241;43m*\u001b[39;49m\u001b[38;5;241;43m*\u001b[39;49m\u001b[43mkwds\u001b[49m\u001b[43m)\u001b[49m\n\u001b[0;32m    622\u001b[0m \u001b[38;5;28;01mif\u001b[39;00m chunksize \u001b[38;5;129;01mor\u001b[39;00m iterator:\n\u001b[0;32m    623\u001b[0m     \u001b[38;5;28;01mreturn\u001b[39;00m parser\n",
      "File \u001b[1;32mC:\\ProgramData\\anaconda3\\envs\\gsiti\\Lib\\site-packages\\pandas\\io\\parsers\\readers.py:1620\u001b[0m, in \u001b[0;36mTextFileReader.__init__\u001b[1;34m(self, f, engine, **kwds)\u001b[0m\n\u001b[0;32m   1617\u001b[0m     \u001b[38;5;28mself\u001b[39m\u001b[38;5;241m.\u001b[39moptions[\u001b[38;5;124m\"\u001b[39m\u001b[38;5;124mhas_index_names\u001b[39m\u001b[38;5;124m\"\u001b[39m] \u001b[38;5;241m=\u001b[39m kwds[\u001b[38;5;124m\"\u001b[39m\u001b[38;5;124mhas_index_names\u001b[39m\u001b[38;5;124m\"\u001b[39m]\n\u001b[0;32m   1619\u001b[0m \u001b[38;5;28mself\u001b[39m\u001b[38;5;241m.\u001b[39mhandles: IOHandles \u001b[38;5;241m|\u001b[39m \u001b[38;5;28;01mNone\u001b[39;00m \u001b[38;5;241m=\u001b[39m \u001b[38;5;28;01mNone\u001b[39;00m\n\u001b[1;32m-> 1620\u001b[0m \u001b[38;5;28mself\u001b[39m\u001b[38;5;241m.\u001b[39m_engine \u001b[38;5;241m=\u001b[39m \u001b[38;5;28;43mself\u001b[39;49m\u001b[38;5;241;43m.\u001b[39;49m\u001b[43m_make_engine\u001b[49m\u001b[43m(\u001b[49m\u001b[43mf\u001b[49m\u001b[43m,\u001b[49m\u001b[43m \u001b[49m\u001b[38;5;28;43mself\u001b[39;49m\u001b[38;5;241;43m.\u001b[39;49m\u001b[43mengine\u001b[49m\u001b[43m)\u001b[49m\n",
      "File \u001b[1;32mC:\\ProgramData\\anaconda3\\envs\\gsiti\\Lib\\site-packages\\pandas\\io\\parsers\\readers.py:1880\u001b[0m, in \u001b[0;36mTextFileReader._make_engine\u001b[1;34m(self, f, engine)\u001b[0m\n\u001b[0;32m   1878\u001b[0m     \u001b[38;5;28;01mif\u001b[39;00m \u001b[38;5;124m\"\u001b[39m\u001b[38;5;124mb\u001b[39m\u001b[38;5;124m\"\u001b[39m \u001b[38;5;129;01mnot\u001b[39;00m \u001b[38;5;129;01min\u001b[39;00m mode:\n\u001b[0;32m   1879\u001b[0m         mode \u001b[38;5;241m+\u001b[39m\u001b[38;5;241m=\u001b[39m \u001b[38;5;124m\"\u001b[39m\u001b[38;5;124mb\u001b[39m\u001b[38;5;124m\"\u001b[39m\n\u001b[1;32m-> 1880\u001b[0m \u001b[38;5;28mself\u001b[39m\u001b[38;5;241m.\u001b[39mhandles \u001b[38;5;241m=\u001b[39m \u001b[43mget_handle\u001b[49m\u001b[43m(\u001b[49m\n\u001b[0;32m   1881\u001b[0m \u001b[43m    \u001b[49m\u001b[43mf\u001b[49m\u001b[43m,\u001b[49m\n\u001b[0;32m   1882\u001b[0m \u001b[43m    \u001b[49m\u001b[43mmode\u001b[49m\u001b[43m,\u001b[49m\n\u001b[0;32m   1883\u001b[0m \u001b[43m    \u001b[49m\u001b[43mencoding\u001b[49m\u001b[38;5;241;43m=\u001b[39;49m\u001b[38;5;28;43mself\u001b[39;49m\u001b[38;5;241;43m.\u001b[39;49m\u001b[43moptions\u001b[49m\u001b[38;5;241;43m.\u001b[39;49m\u001b[43mget\u001b[49m\u001b[43m(\u001b[49m\u001b[38;5;124;43m\"\u001b[39;49m\u001b[38;5;124;43mencoding\u001b[39;49m\u001b[38;5;124;43m\"\u001b[39;49m\u001b[43m,\u001b[49m\u001b[43m \u001b[49m\u001b[38;5;28;43;01mNone\u001b[39;49;00m\u001b[43m)\u001b[49m\u001b[43m,\u001b[49m\n\u001b[0;32m   1884\u001b[0m \u001b[43m    \u001b[49m\u001b[43mcompression\u001b[49m\u001b[38;5;241;43m=\u001b[39;49m\u001b[38;5;28;43mself\u001b[39;49m\u001b[38;5;241;43m.\u001b[39;49m\u001b[43moptions\u001b[49m\u001b[38;5;241;43m.\u001b[39;49m\u001b[43mget\u001b[49m\u001b[43m(\u001b[49m\u001b[38;5;124;43m\"\u001b[39;49m\u001b[38;5;124;43mcompression\u001b[39;49m\u001b[38;5;124;43m\"\u001b[39;49m\u001b[43m,\u001b[49m\u001b[43m \u001b[49m\u001b[38;5;28;43;01mNone\u001b[39;49;00m\u001b[43m)\u001b[49m\u001b[43m,\u001b[49m\n\u001b[0;32m   1885\u001b[0m \u001b[43m    \u001b[49m\u001b[43mmemory_map\u001b[49m\u001b[38;5;241;43m=\u001b[39;49m\u001b[38;5;28;43mself\u001b[39;49m\u001b[38;5;241;43m.\u001b[39;49m\u001b[43moptions\u001b[49m\u001b[38;5;241;43m.\u001b[39;49m\u001b[43mget\u001b[49m\u001b[43m(\u001b[49m\u001b[38;5;124;43m\"\u001b[39;49m\u001b[38;5;124;43mmemory_map\u001b[39;49m\u001b[38;5;124;43m\"\u001b[39;49m\u001b[43m,\u001b[49m\u001b[43m \u001b[49m\u001b[38;5;28;43;01mFalse\u001b[39;49;00m\u001b[43m)\u001b[49m\u001b[43m,\u001b[49m\n\u001b[0;32m   1886\u001b[0m \u001b[43m    \u001b[49m\u001b[43mis_text\u001b[49m\u001b[38;5;241;43m=\u001b[39;49m\u001b[43mis_text\u001b[49m\u001b[43m,\u001b[49m\n\u001b[0;32m   1887\u001b[0m \u001b[43m    \u001b[49m\u001b[43merrors\u001b[49m\u001b[38;5;241;43m=\u001b[39;49m\u001b[38;5;28;43mself\u001b[39;49m\u001b[38;5;241;43m.\u001b[39;49m\u001b[43moptions\u001b[49m\u001b[38;5;241;43m.\u001b[39;49m\u001b[43mget\u001b[49m\u001b[43m(\u001b[49m\u001b[38;5;124;43m\"\u001b[39;49m\u001b[38;5;124;43mencoding_errors\u001b[39;49m\u001b[38;5;124;43m\"\u001b[39;49m\u001b[43m,\u001b[49m\u001b[43m \u001b[49m\u001b[38;5;124;43m\"\u001b[39;49m\u001b[38;5;124;43mstrict\u001b[39;49m\u001b[38;5;124;43m\"\u001b[39;49m\u001b[43m)\u001b[49m\u001b[43m,\u001b[49m\n\u001b[0;32m   1888\u001b[0m \u001b[43m    \u001b[49m\u001b[43mstorage_options\u001b[49m\u001b[38;5;241;43m=\u001b[39;49m\u001b[38;5;28;43mself\u001b[39;49m\u001b[38;5;241;43m.\u001b[39;49m\u001b[43moptions\u001b[49m\u001b[38;5;241;43m.\u001b[39;49m\u001b[43mget\u001b[49m\u001b[43m(\u001b[49m\u001b[38;5;124;43m\"\u001b[39;49m\u001b[38;5;124;43mstorage_options\u001b[39;49m\u001b[38;5;124;43m\"\u001b[39;49m\u001b[43m,\u001b[49m\u001b[43m \u001b[49m\u001b[38;5;28;43;01mNone\u001b[39;49;00m\u001b[43m)\u001b[49m\u001b[43m,\u001b[49m\n\u001b[0;32m   1889\u001b[0m \u001b[43m\u001b[49m\u001b[43m)\u001b[49m\n\u001b[0;32m   1890\u001b[0m \u001b[38;5;28;01massert\u001b[39;00m \u001b[38;5;28mself\u001b[39m\u001b[38;5;241m.\u001b[39mhandles \u001b[38;5;129;01mis\u001b[39;00m \u001b[38;5;129;01mnot\u001b[39;00m \u001b[38;5;28;01mNone\u001b[39;00m\n\u001b[0;32m   1891\u001b[0m f \u001b[38;5;241m=\u001b[39m \u001b[38;5;28mself\u001b[39m\u001b[38;5;241m.\u001b[39mhandles\u001b[38;5;241m.\u001b[39mhandle\n",
      "File \u001b[1;32mC:\\ProgramData\\anaconda3\\envs\\gsiti\\Lib\\site-packages\\pandas\\io\\common.py:873\u001b[0m, in \u001b[0;36mget_handle\u001b[1;34m(path_or_buf, mode, encoding, compression, memory_map, is_text, errors, storage_options)\u001b[0m\n\u001b[0;32m    868\u001b[0m \u001b[38;5;28;01melif\u001b[39;00m \u001b[38;5;28misinstance\u001b[39m(handle, \u001b[38;5;28mstr\u001b[39m):\n\u001b[0;32m    869\u001b[0m     \u001b[38;5;66;03m# Check whether the filename is to be opened in binary mode.\u001b[39;00m\n\u001b[0;32m    870\u001b[0m     \u001b[38;5;66;03m# Binary mode does not support 'encoding' and 'newline'.\u001b[39;00m\n\u001b[0;32m    871\u001b[0m     \u001b[38;5;28;01mif\u001b[39;00m ioargs\u001b[38;5;241m.\u001b[39mencoding \u001b[38;5;129;01mand\u001b[39;00m \u001b[38;5;124m\"\u001b[39m\u001b[38;5;124mb\u001b[39m\u001b[38;5;124m\"\u001b[39m \u001b[38;5;129;01mnot\u001b[39;00m \u001b[38;5;129;01min\u001b[39;00m ioargs\u001b[38;5;241m.\u001b[39mmode:\n\u001b[0;32m    872\u001b[0m         \u001b[38;5;66;03m# Encoding\u001b[39;00m\n\u001b[1;32m--> 873\u001b[0m         handle \u001b[38;5;241m=\u001b[39m \u001b[38;5;28;43mopen\u001b[39;49m\u001b[43m(\u001b[49m\n\u001b[0;32m    874\u001b[0m \u001b[43m            \u001b[49m\u001b[43mhandle\u001b[49m\u001b[43m,\u001b[49m\n\u001b[0;32m    875\u001b[0m \u001b[43m            \u001b[49m\u001b[43mioargs\u001b[49m\u001b[38;5;241;43m.\u001b[39;49m\u001b[43mmode\u001b[49m\u001b[43m,\u001b[49m\n\u001b[0;32m    876\u001b[0m \u001b[43m            \u001b[49m\u001b[43mencoding\u001b[49m\u001b[38;5;241;43m=\u001b[39;49m\u001b[43mioargs\u001b[49m\u001b[38;5;241;43m.\u001b[39;49m\u001b[43mencoding\u001b[49m\u001b[43m,\u001b[49m\n\u001b[0;32m    877\u001b[0m \u001b[43m            \u001b[49m\u001b[43merrors\u001b[49m\u001b[38;5;241;43m=\u001b[39;49m\u001b[43merrors\u001b[49m\u001b[43m,\u001b[49m\n\u001b[0;32m    878\u001b[0m \u001b[43m            \u001b[49m\u001b[43mnewline\u001b[49m\u001b[38;5;241;43m=\u001b[39;49m\u001b[38;5;124;43m\"\u001b[39;49m\u001b[38;5;124;43m\"\u001b[39;49m\u001b[43m,\u001b[49m\n\u001b[0;32m    879\u001b[0m \u001b[43m        \u001b[49m\u001b[43m)\u001b[49m\n\u001b[0;32m    880\u001b[0m     \u001b[38;5;28;01melse\u001b[39;00m:\n\u001b[0;32m    881\u001b[0m         \u001b[38;5;66;03m# Binary mode\u001b[39;00m\n\u001b[0;32m    882\u001b[0m         handle \u001b[38;5;241m=\u001b[39m \u001b[38;5;28mopen\u001b[39m(handle, ioargs\u001b[38;5;241m.\u001b[39mmode)\n",
      "\u001b[1;31mFileNotFoundError\u001b[0m: [Errno 2] No such file or directory: 'ext_3k_SS01.csv'"
     ]
    }
   ],
   "source": [
    "## importing data as dataframe \n",
    "dataset = pd.read_csv('ext_3k_SS01.csv', delimiter=',')\n",
    "dataset.head()"
   ]
  },
  {
   "cell_type": "code",
   "execution_count": null,
   "id": "e335c7e6-ba86-4edb-b457-3d7462fd0a76",
   "metadata": {
    "scrolled": true
   },
   "outputs": [],
   "source": [
    "data_set = dataset.iloc[:,1:]\n",
    "data_set.hist()\n",
    "plt.tight_layout()"
   ]
  },
  {
   "cell_type": "code",
   "execution_count": null,
   "id": "bbf14973-32d5-4232-ae84-5959717314cb",
   "metadata": {},
   "outputs": [],
   "source": [
    "# Transforming geochemical variables \n",
    "dt_geochem = data_set.iloc[:,6:21]\n",
    "dt_rest = data_set.iloc[:,:6]\n",
    "gc_log = dt_geochem.apply(np.log1p)\n",
    "gc_log.hist()\n",
    "plt.tight_layout()"
   ]
  },
  {
   "cell_type": "code",
   "execution_count": null,
   "id": "418cc9bb-7169-41d7-9eb1-96e41fed91f0",
   "metadata": {
    "scrolled": true
   },
   "outputs": [],
   "source": [
    "# Transformed data clubbing \n",
    "dt_tfm = pd.concat([dt_rest, gc_log], axis=1)\n",
    "dt_tfm['Label'] = data_set['Label']\n",
    "dt_tfm.info()"
   ]
  },
  {
   "cell_type": "code",
   "execution_count": null,
   "id": "ec700860-c885-4434-8924-7d3f64f23e4c",
   "metadata": {
    "scrolled": true
   },
   "outputs": [],
   "source": [
    "## Train test split \n",
    "## checking the split no much imbalance \n",
    "X = dt_tfm.drop(columns='Label')\n",
    "y = dt_tfm['Label']\n",
    "xtrain, xtest, ytrain, ytest = train_test_split(X, y, test_size=0.2, random_state=42, shuffle=True, stratify=y)\n",
    "print('count of xtrain', xtrain.count())\n",
    "print('count of xtest', xtest.count())\n",
    "print('value count of ytrain', ytrain.value_counts())\n",
    "print('value count of ytest', ytest.value_counts())"
   ]
  },
  {
   "cell_type": "code",
   "execution_count": null,
   "id": "cc00b205-e141-4995-8b50-970073f94777",
   "metadata": {
    "scrolled": true
   },
   "outputs": [],
   "source": [
    "## strandard scaling the data \n",
    "sc = StandardScaler()\n",
    "xtrain_sc = sc.fit_transform(xtrain)\n",
    "xtrain_df = pd.DataFrame(xtrain_sc)\n",
    "xtrain_df.hist(bins = 30, figsize=(15,10))\n",
    "plt.tight_layout()"
   ]
  },
  {
   "cell_type": "code",
   "execution_count": null,
   "id": "4d25224e-7109-4ecb-b22b-8eac73648b48",
   "metadata": {
    "scrolled": true
   },
   "outputs": [],
   "source": [
    "## Randomforest classification \n",
    "score_list = ['accuracy', 'precision', 'recall', 'f1']\n",
    "skf = StratifiedKFold(n_splits=5,shuffle=True, random_state=42)\n",
    "clf = lgb.LGBMClassifier(random_state=42)\n",
    "cv_results = cross_validate(clf,xtrain_sc,ytrain,cv=skf,scoring = score_list,return_train_score=True, verbose=0)\n",
    "cv_pd_res = pd.DataFrame(cv_results)\n",
    "LearningCurveDisplay.from_estimator(clf,xtrain_sc,ytrain,cv=skf,shuffle=True,random_state=42)"
   ]
  },
  {
   "cell_type": "code",
   "execution_count": null,
   "id": "4594f607-8f75-4914-aade-033078f018df",
   "metadata": {
    "scrolled": true
   },
   "outputs": [],
   "source": [
    "cv_pd_res"
   ]
  },
  {
   "cell_type": "code",
   "execution_count": null,
   "id": "7974e264-eb5b-43a6-978d-4e08ca665ea1",
   "metadata": {
    "scrolled": true
   },
   "outputs": [],
   "source": [
    "## Hyper_parmaeter tuning of the RaRandomForestClassifier\n",
    "score_list = ['accuracy', 'precision', 'recall', 'f1']\n",
    "skf = StratifiedKFold(n_splits=5,shuffle=True, random_state=42)\n",
    "clf2 =lgb.LGBMClassifier(boosting_type='gbdt', n_estimators=500, reg_alpha=12, colsample_bytree=1.0, learning_rate=0.01, class_weight='balanced', random_state=42, verbose = -1)\n",
    "cv2_results = cross_validate(clf2,xtrain_sc,ytrain,cv=skf,scoring = score_list,return_train_score=True)\n",
    "cv_pd_res2 = pd.DataFrame(cv2_results)"
   ]
  },
  {
   "cell_type": "code",
   "execution_count": null,
   "id": "954004b1-0abc-405a-9354-68821babbb9f",
   "metadata": {},
   "outputs": [],
   "source": [
    "LearningCurveDisplay.from_estimator(clf2,xtrain_sc,ytrain,cv=skf,shuffle=True,random_state=42)"
   ]
  },
  {
   "cell_type": "code",
   "execution_count": null,
   "id": "ee0fa899-9bd2-47e5-a604-4c2c768993c3",
   "metadata": {},
   "outputs": [],
   "source": [
    "max_D =[0.2, 0.4, 0.8, 1 , 2 ]\n",
    "ValidationCurveDisplay.from_estimator(clf2,xtrain_sc,ytrain,param_name='colsample_bytree', param_range= max_D )"
   ]
  },
  {
   "cell_type": "code",
   "execution_count": null,
   "id": "e2b7bf2d-58c2-4844-90a5-ef1d20c2dbe4",
   "metadata": {},
   "outputs": [],
   "source": [
    "# results of the tuned model for random set; Class label noise is hindering ~70% accuracy \n",
    "val_mean = cv_pd_res2.mean()\n",
    "val_std = cv_pd_res2.std()\n",
    "val_results = pd.DataFrame()\n",
    "val_results['mean'] = val_mean\n",
    "val_results['std'] = val_std\n",
    "val_results"
   ]
  },
  {
   "cell_type": "code",
   "execution_count": null,
   "id": "ed6fef62-c8c1-4fd1-896f-f6c528823048",
   "metadata": {},
   "outputs": [],
   "source": [
    "## Fitting the tuned model for training data and checking its prediction for test set \n",
    "clf_fit = clf2.fit(xtrain_sc,ytrain)\n",
    "xtest_sc = sc.transform(xtest)\n",
    "test_pred = clf2.predict(xtest_sc)\n",
    "print(classification_report(y_true=ytest, y_pred=test_pred))\n",
    "cm = confusion_matrix(y_true=ytest, y_pred=test_pred, labels=[0,1])\n",
    "sns.heatmap(cm, annot=True, fmt=\"d\", cmap=\"coolwarm\", \n",
    "            xticklabels=[\"Pred 0\",\"Pred 1\"], \n",
    "            yticklabels=[\"True 0\",\"True 1\"])\n",
    "plt.xlabel(\"Predicted label\")\n",
    "plt.ylabel(\"True label\")\n",
    "plt.title(\"Confusion Matrix\")\n",
    "plt.tight_layout()\n",
    "plt.show()"
   ]
  },
  {
   "cell_type": "code",
   "execution_count": null,
   "id": "cec1b062-1be5-4c58-97a9-42075526d17d",
   "metadata": {},
   "outputs": [],
   "source": [
    "RocCurveDisplay.from_estimator(clf2,xtrain_sc,ytrain)"
   ]
  },
  {
   "cell_type": "code",
   "execution_count": null,
   "id": "64ac496f-3421-40dd-9f99-99e24928c166",
   "metadata": {},
   "outputs": [],
   "source": [
    "# Get feature importances (default: split/gain depending on LightGBM version)\n",
    "importances = clf_fit.feature_importances_  # By default: 'split', can be changed via booster API\n",
    "\n",
    "# Create Series with feature names\n",
    "feat_imp = pd.Series(importances, index=dt_tfm.columns[:-1])  # exclude label column\n",
    "feat_imp = feat_imp.sort_values(ascending=True)  # for horizontal bar plot\n",
    "\n",
    "# Plot\n",
    "plt.figure(figsize=(8, 6))\n",
    "feat_imp.plot(kind='barh')\n",
    "plt.xlabel('Feature Importance')\n",
    "plt.title('LightGBM Feature Importances')\n",
    "plt.tight_layout()\n",
    "plt.show()"
   ]
  },
  {
   "cell_type": "code",
   "execution_count": null,
   "id": "2eb1753b-3d9b-49c9-9a04-1b72a3c243a8",
   "metadata": {},
   "outputs": [],
   "source": [
    "### Fitting model for all data \n",
    "X_sc = sc.transform(X)\n",
    "clf_all = clf2.fit(X_sc,y)\n",
    "importances_all = clf_all.feature_importances_\n",
    "\n",
    "# Create Series with feature names\n",
    "feat_imp = pd.Series(importances_all, index=dt_tfm.columns[:-1])  # exclude label column\n",
    "feat_imp = feat_imp.sort_values(ascending=True)  # for horizontal bar plot\n",
    "\n",
    "# Plot\n",
    "plt.figure(figsize=(8, 6))\n",
    "feat_imp.plot(kind='barh')\n",
    "plt.xlabel('Feature Importance')\n",
    "plt.title('LightGBM Feature Importances')\n",
    "plt.tight_layout()\n",
    "plt.show()"
   ]
  },
  {
   "cell_type": "code",
   "execution_count": null,
   "id": "373b9bf5-aa79-4e1f-bdaf-e7ed15a551e0",
   "metadata": {},
   "outputs": [],
   "source": [
    "### fitting model predictions for data cube \n",
    "bandset = pd.read_csv('data_cube_ext.csv', delimiter=',')\n",
    "b_set = bandset.iloc[:,1:]\n",
    "b_geochem = b_set.iloc[:,6:21]\n",
    "b_rest = b_set.iloc[:,:6]\n",
    "log_geochem = b_geochem.apply(np.log1p)\n",
    "# Transformed data clubbing \n",
    "b_final = pd.concat([b_rest, log_geochem], axis=1)\n",
    "b_final.info()"
   ]
  },
  {
   "cell_type": "code",
   "execution_count": null,
   "id": "dc8bcf9f-d932-4e2f-8653-7303bd9ecb1b",
   "metadata": {},
   "outputs": [],
   "source": [
    "### Predictions using clf_all\n",
    "b_sc = sc.transform(b_final)\n",
    "RF_model = clf_all.predict(b_sc)"
   ]
  },
  {
   "cell_type": "code",
   "execution_count": null,
   "id": "546fcece-0d42-4d3f-ad94-d53b8f30fda0",
   "metadata": {},
   "outputs": [],
   "source": [
    "import rasterio\n",
    "height = 111\n",
    "width = 94\n",
    "\n",
    "# 1. Read the base raster’s metadata\n",
    "with rasterio.open('Base_data_cube_21.tif') as src:\n",
    "    meta = src.meta.copy()\n",
    "    height = src.height\n",
    "    width = src.width\n",
    "\n",
    "# 2. Suppose `preds` is your 1D int array of length height*width.\n",
    "#    First, reshape it:\n",
    "pred_map = RF_model.reshape((height, width))\n",
    "\n",
    "# 3. Decide on a valid integer nodata value (e.g. -9999).\n",
    "#    If your pred_map has NaNs (float), convert them to -9999 now:\n",
    "if np.issubdtype(pred_map.dtype, np.floating):\n",
    "    mask = np.isnan(pred_map)\n",
    "    pred_map = pred_map.astype(np.int64)       # cast to integer\n",
    "    pred_map[mask] = -9999\n",
    "\n",
    "# 4. Update the metadata:\n",
    "meta.update({\n",
    "    'count': 1,\n",
    "    'dtype': 'int32',   # or 'int32', whichever you prefer\n",
    "    'nodata': -9999\n",
    "})\n",
    "\n",
    "# 5. Write out your new single-band GeoTIFF\n",
    "with rasterio.open('TS05_M_lgb_3k_predicted_map.tif', 'w', **meta) as dst:\n",
    "    dst.write(pred_map, 1)\n",
    "\n",
    "print(\"Saved 'predicted_map.tif' with nodata=-9999 and dtype=int64.\")\n"
   ]
  },
  {
   "cell_type": "code",
   "execution_count": null,
   "id": "9be097a4-7008-4a90-b5c5-0f1b7ae74ee1",
   "metadata": {},
   "outputs": [],
   "source": [
    "# Predict class probabilities using your classifier\n",
    "RF = clf_all.predict_proba(b_sc)\n",
    "RF_prob = RF[:, 1]  # Probability of class 1\n",
    "\n",
    "# Read base raster metadata\n",
    "with rasterio.open('Base_data_cube_21.tif') as src:\n",
    "    meta = src.meta.copy()\n",
    "    height = src.height\n",
    "    width = src.width\n",
    "\n",
    "# Reshape the 1D prediction array to raster shape\n",
    "pred_map = RF_prob.reshape((height, width))\n",
    "\n",
    "# Optional: handle NaNs (though not usually present in RF_model)\n",
    "if np.isnan(pred_map).any():\n",
    "    pred_map = np.where(np.isnan(pred_map), -9999, pred_map)\n",
    "    dtype = 'float32'\n",
    "    nodata_val = -9999\n",
    "else:\n",
    "    dtype = 'float32'\n",
    "    nodata_val = None  # Or keep existing src.meta['nodata']\n",
    "\n",
    "# Update metadata for a single-band float raster\n",
    "meta.update({\n",
    "    'count': 1,\n",
    "    'dtype': dtype,\n",
    "    'nodata': nodata_val\n",
    "})\n",
    "\n",
    "# Write out the prediction map\n",
    "with rasterio.open('TS05_M_lgb_one_cls_predicted_map.tif', 'w', **meta) as dst:\n",
    "    dst.write(pred_map.astype(dtype), 1)\n",
    "\n",
    "print(\"Saved 'TS05_M_XG_one_cls_predicted_map.tif'.\")\n"
   ]
  },
  {
   "cell_type": "code",
   "execution_count": null,
   "id": "f61fd1a1-fe16-4493-aaae-d56926c9351b",
   "metadata": {},
   "outputs": [],
   "source": [
    "xtest_sc.shape"
   ]
  },
  {
   "cell_type": "code",
   "execution_count": null,
   "id": "5a67b6a0-3934-438e-ba15-2c37e73b432e",
   "metadata": {},
   "outputs": [],
   "source": []
  }
 ],
 "metadata": {
  "kernelspec": {
   "display_name": "Python 3 (ipykernel)",
   "language": "python",
   "name": "python3"
  },
  "language_info": {
   "codemirror_mode": {
    "name": "ipython",
    "version": 3
   },
   "file_extension": ".py",
   "mimetype": "text/x-python",
   "name": "python",
   "nbconvert_exporter": "python",
   "pygments_lexer": "ipython3",
   "version": "3.12.9"
  }
 },
 "nbformat": 4,
 "nbformat_minor": 5
}
